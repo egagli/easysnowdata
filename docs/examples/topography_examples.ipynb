{
 "cells": [
  {
   "cell_type": "markdown",
   "metadata": {},
   "source": [
    "# Testing examples from topography"
   ]
  },
  {
   "cell_type": "code",
   "execution_count": null,
   "metadata": {},
   "outputs": [],
   "source": [
    "#!mamba env create -f '../../environment.yml'\n",
    "#!mamba env update -f '../../environment.yml' --prune"
   ]
  },
  {
   "cell_type": "code",
   "execution_count": 1,
   "metadata": {},
   "outputs": [],
   "source": [
    "# %load_ext autoreload\n",
    "# %autoreload 2"
   ]
  },
  {
   "cell_type": "code",
   "execution_count": 2,
   "metadata": {},
   "outputs": [],
   "source": [
    "# %aimport easysnowdata\n",
    "# import geopandas as gpd\n",
    "# import rioxarray as rxr\n",
    "# import xarray as xr\n",
    "# import shapely\n",
    "# import dask\n",
    "# import pystac_client\n",
    "# import planetary_computer\n",
    "# import odc.stac\n",
    "# import matplotlib.pyplot as plt\n",
    "# import matplotlib.colors\n",
    "# import datetime"
   ]
  },
  {
   "cell_type": "code",
   "execution_count": 3,
   "metadata": {},
   "outputs": [],
   "source": [
    "# bbox_gdf = gpd.read_file('https://github.com/egagli/sar_snowmelt_timing/raw/main/input/shapefiles/mt_rainier.geojson')\n",
    "#bbox_gdf = gpd.read_file('https://github.com/egagli/sar_snowmelt_timing/raw/main/input/shapefiles/olympic_peninsula.geojson')"
   ]
  },
  {
   "cell_type": "markdown",
   "metadata": {},
   "source": [
    "## Copernicus DEM"
   ]
  },
  {
   "cell_type": "code",
   "execution_count": 9,
   "metadata": {},
   "outputs": [],
   "source": [
    "# %%time\n",
    "# cop30_dem = easysnowdata.topography.get_copernicus_dem(bbox_gdf)\n",
    "# cop30_dem"
   ]
  },
  {
   "cell_type": "code",
   "execution_count": 1,
   "metadata": {},
   "outputs": [],
   "source": [
    "# %%time\n",
    "# cop90_dem = easysnowdata.topography.get_copernicus_dem(bbox_gdf, resolution=90)\n",
    "# cop90_dem"
   ]
  },
  {
   "cell_type": "code",
   "execution_count": 2,
   "metadata": {},
   "outputs": [],
   "source": [
    "# f,ax=plt.subplots(1,2,figsize=(12,7))\n",
    "\n",
    "# cop30_dem.plot(ax=ax[0],cmap='terrain')\n",
    "# cop90_dem.plot(ax=ax[1],cmap='terrain')\n",
    "\n",
    "\n",
    "# ax[0].set_title('Copernicus 30m DEM')\n",
    "# ax[1].set_title('Copernicus 90m DEM')"
   ]
  },
  {
   "cell_type": "code",
   "execution_count": 3,
   "metadata": {},
   "outputs": [],
   "source": [
    "# %%time\n",
    "# dsm_3dep = easysnowdata.topography.get_3dep_dem(bbox_gdf,dem_type='DTM')\n",
    "# dsm_3dep.item_collection()"
   ]
  },
  {
   "cell_type": "code",
   "execution_count": 4,
   "metadata": {},
   "outputs": [],
   "source": [
    "# !pip install -q py3dep\n",
    "# import py3dep"
   ]
  },
  {
   "cell_type": "code",
   "execution_count": 5,
   "metadata": {},
   "outputs": [],
   "source": [
    "# py3dep.get_map('DEM',geometry=bbox_gdf.geometry[0],resolution=10).plot()"
   ]
  },
  {
   "cell_type": "code",
   "execution_count": 6,
   "metadata": {},
   "outputs": [],
   "source": [
    "# tuple(bbox_gdf.bounds.values[0])"
   ]
  },
  {
   "cell_type": "code",
   "execution_count": 7,
   "metadata": {},
   "outputs": [],
   "source": [
    "# py3dep.query_3dep_sources(tuple(bbox_gdf.bounds.values[0]))"
   ]
  },
  {
   "cell_type": "code",
   "execution_count": 8,
   "metadata": {},
   "outputs": [],
   "source": [
    "# py3dep.check_3dep_availability(tuple(bbox_gdf.bounds.values[0]))"
   ]
  },
  {
   "cell_type": "code",
   "execution_count": null,
   "metadata": {},
   "outputs": [],
   "source": []
  }
 ],
 "metadata": {
  "kernelspec": {
   "display_name": "easysnowdata",
   "language": "python",
   "name": "python3"
  },
  "language_info": {
   "codemirror_mode": {
    "name": "ipython",
    "version": 3
   },
   "file_extension": ".py",
   "mimetype": "text/x-python",
   "name": "python",
   "nbconvert_exporter": "python",
   "pygments_lexer": "ipython3",
   "version": "3.12.2"
  }
 },
 "nbformat": 4,
 "nbformat_minor": 2
}

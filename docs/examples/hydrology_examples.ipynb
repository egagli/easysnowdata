{
 "cells": [
  {
   "cell_type": "code",
   "execution_count": 2,
   "metadata": {},
   "outputs": [],
   "source": [
    "%load_ext autoreload\n",
    "%autoreload 2"
   ]
  },
  {
   "cell_type": "code",
   "execution_count": 3,
   "metadata": {},
   "outputs": [
    {
     "name": "stdout",
     "output_type": "stream",
     "text": [
      "Collecting bs4\n",
      "  Downloading bs4-0.0.2-py2.py3-none-any.whl.metadata (411 bytes)\n",
      "Collecting beautifulsoup4 (from bs4)\n",
      "  Downloading beautifulsoup4-4.12.3-py3-none-any.whl.metadata (3.8 kB)\n",
      "Collecting soupsieve>1.2 (from beautifulsoup4->bs4)\n",
      "  Downloading soupsieve-2.5-py3-none-any.whl.metadata (4.7 kB)\n",
      "Downloading bs4-0.0.2-py2.py3-none-any.whl (1.2 kB)\n",
      "Downloading beautifulsoup4-4.12.3-py3-none-any.whl (147 kB)\n",
      "\u001b[2K   \u001b[90m━━━━━━━━━━━━━━━━━━━━━━━━━━━━━━━━━━━━━━━\u001b[0m \u001b[32m147.9/147.9 kB\u001b[0m \u001b[31m721.1 kB/s\u001b[0m eta \u001b[36m0:00:00\u001b[0m \u001b[36m0:00:01\u001b[0m\n",
      "\u001b[?25hDownloading soupsieve-2.5-py3-none-any.whl (36 kB)\n",
      "Installing collected packages: soupsieve, beautifulsoup4, bs4\n",
      "Successfully installed beautifulsoup4-4.12.3 bs4-0.0.2 soupsieve-2.5\n"
     ]
    }
   ],
   "source": [
    "!pip install bs4"
   ]
  },
  {
   "cell_type": "code",
   "execution_count": 3,
   "metadata": {},
   "outputs": [],
   "source": [
    "%aimport easysnowdata\n",
    "\n",
    "import pandas as pd\n",
    "import geopandas as gpd\n",
    "import numpy as np\n",
    "import matplotlib.pyplot as plt\n",
    "import datetime\n",
    "import tqdm\n",
    "import contextily as ctx\n",
    "\n",
    "import xarray as xr\n",
    "import glob\n",
    "\n",
    "#import logging\n",
    "#logging.basicConfig(format='%(levelname)s:%(message)s',level=logging.INFO)"
   ]
  },
  {
   "cell_type": "code",
   "execution_count": 6,
   "metadata": {},
   "outputs": [
    {
     "name": "stdout",
     "output_type": "stream",
     "text": [
      "Collecting xee\n",
      "  Downloading xee-0.0.11-py3-none-any.whl.metadata (5.3 kB)\n",
      "Requirement already satisfied: xarray[parallel] in /home/eric/miniforge3/envs/easysnowdata/lib/python3.12/site-packages (from xee) (2024.2.0)\n",
      "Collecting earthengine-api>=0.1.374 (from xee)\n",
      "  Downloading earthengine_api-0.1.395-py3-none-any.whl.metadata (1.7 kB)\n",
      "Requirement already satisfied: pyproj in /home/eric/miniforge3/envs/easysnowdata/lib/python3.12/site-packages (from xee) (3.6.1)\n",
      "Requirement already satisfied: affine in /home/eric/miniforge3/envs/easysnowdata/lib/python3.12/site-packages (from xee) (2.4.0)\n",
      "Collecting google-cloud-storage (from earthengine-api>=0.1.374->xee)\n",
      "  Downloading google_cloud_storage-2.16.0-py2.py3-none-any.whl.metadata (6.1 kB)\n",
      "Collecting google-api-python-client>=1.12.1 (from earthengine-api>=0.1.374->xee)\n",
      "  Downloading google_api_python_client-2.123.0-py2.py3-none-any.whl.metadata (6.6 kB)\n",
      "Collecting google-auth>=1.4.1 (from earthengine-api>=0.1.374->xee)\n",
      "  Downloading google_auth-2.29.0-py2.py3-none-any.whl.metadata (4.7 kB)\n",
      "Collecting google-auth-httplib2>=0.0.3 (from earthengine-api>=0.1.374->xee)\n",
      "  Downloading google_auth_httplib2-0.2.0-py2.py3-none-any.whl.metadata (2.2 kB)\n",
      "Collecting httplib2<1dev,>=0.9.2 (from earthengine-api>=0.1.374->xee)\n",
      "  Downloading httplib2-0.22.0-py3-none-any.whl.metadata (2.6 kB)\n",
      "Requirement already satisfied: requests in /home/eric/miniforge3/envs/easysnowdata/lib/python3.12/site-packages (from earthengine-api>=0.1.374->xee) (2.31.0)\n",
      "Requirement already satisfied: certifi in /home/eric/miniforge3/envs/easysnowdata/lib/python3.12/site-packages (from pyproj->xee) (2024.2.2)\n",
      "Requirement already satisfied: numpy>=1.23 in /home/eric/miniforge3/envs/easysnowdata/lib/python3.12/site-packages (from xarray[parallel]->xee) (1.26.4)\n",
      "Requirement already satisfied: packaging>=22 in /home/eric/miniforge3/envs/easysnowdata/lib/python3.12/site-packages (from xarray[parallel]->xee) (23.2)\n",
      "Requirement already satisfied: pandas>=1.5 in /home/eric/miniforge3/envs/easysnowdata/lib/python3.12/site-packages (from xarray[parallel]->xee) (2.2.1)\n",
      "Requirement already satisfied: dask[complete] in /home/eric/miniforge3/envs/easysnowdata/lib/python3.12/site-packages (from xarray[parallel]->xee) (2024.2.1)\n",
      "Collecting google-api-core!=2.0.*,!=2.1.*,!=2.2.*,!=2.3.0,<3.0.0.dev0,>=1.31.5 (from google-api-python-client>=1.12.1->earthengine-api>=0.1.374->xee)\n",
      "  Downloading google_api_core-2.18.0-py3-none-any.whl.metadata (2.7 kB)\n",
      "Collecting uritemplate<5,>=3.0.1 (from google-api-python-client>=1.12.1->earthengine-api>=0.1.374->xee)\n",
      "  Downloading uritemplate-4.1.1-py2.py3-none-any.whl.metadata (2.9 kB)\n",
      "Requirement already satisfied: cachetools<6.0,>=2.0.0 in /home/eric/miniforge3/envs/easysnowdata/lib/python3.12/site-packages (from google-auth>=1.4.1->earthengine-api>=0.1.374->xee) (5.3.3)\n",
      "Collecting pyasn1-modules>=0.2.1 (from google-auth>=1.4.1->earthengine-api>=0.1.374->xee)\n",
      "  Downloading pyasn1_modules-0.3.0-py2.py3-none-any.whl.metadata (3.6 kB)\n",
      "Collecting rsa<5,>=3.1.4 (from google-auth>=1.4.1->earthengine-api>=0.1.374->xee)\n",
      "  Downloading rsa-4.9-py3-none-any.whl.metadata (4.2 kB)\n",
      "Requirement already satisfied: pyparsing!=3.0.0,!=3.0.1,!=3.0.2,!=3.0.3,<4,>=2.4.2 in /home/eric/miniforge3/envs/easysnowdata/lib/python3.12/site-packages (from httplib2<1dev,>=0.9.2->earthengine-api>=0.1.374->xee) (3.1.2)\n",
      "Requirement already satisfied: python-dateutil>=2.8.2 in /home/eric/miniforge3/envs/easysnowdata/lib/python3.12/site-packages (from pandas>=1.5->xarray[parallel]->xee) (2.9.0)\n",
      "Requirement already satisfied: pytz>=2020.1 in /home/eric/miniforge3/envs/easysnowdata/lib/python3.12/site-packages (from pandas>=1.5->xarray[parallel]->xee) (2024.1)\n",
      "Requirement already satisfied: tzdata>=2022.7 in /home/eric/miniforge3/envs/easysnowdata/lib/python3.12/site-packages (from pandas>=1.5->xarray[parallel]->xee) (2024.1)\n",
      "Requirement already satisfied: click>=8.1 in /home/eric/miniforge3/envs/easysnowdata/lib/python3.12/site-packages (from dask[complete]; extra == \"parallel\"->xarray[parallel]->xee) (8.1.7)\n",
      "Requirement already satisfied: cloudpickle>=1.5.0 in /home/eric/miniforge3/envs/easysnowdata/lib/python3.12/site-packages (from dask[complete]; extra == \"parallel\"->xarray[parallel]->xee) (3.0.0)\n",
      "Requirement already satisfied: fsspec>=2021.09.0 in /home/eric/miniforge3/envs/easysnowdata/lib/python3.12/site-packages (from dask[complete]; extra == \"parallel\"->xarray[parallel]->xee) (2024.2.0)\n",
      "Requirement already satisfied: partd>=1.2.0 in /home/eric/miniforge3/envs/easysnowdata/lib/python3.12/site-packages (from dask[complete]; extra == \"parallel\"->xarray[parallel]->xee) (1.4.1)\n",
      "Requirement already satisfied: pyyaml>=5.3.1 in /home/eric/miniforge3/envs/easysnowdata/lib/python3.12/site-packages (from dask[complete]; extra == \"parallel\"->xarray[parallel]->xee) (6.0.1)\n",
      "Requirement already satisfied: toolz>=0.10.0 in /home/eric/miniforge3/envs/easysnowdata/lib/python3.12/site-packages (from dask[complete]; extra == \"parallel\"->xarray[parallel]->xee) (0.12.1)\n",
      "Requirement already satisfied: importlib-metadata>=4.13.0 in /home/eric/miniforge3/envs/easysnowdata/lib/python3.12/site-packages (from dask[complete]; extra == \"parallel\"->xarray[parallel]->xee) (7.0.2)\n",
      "Requirement already satisfied: pyarrow>=7.0 in /home/eric/miniforge3/envs/easysnowdata/lib/python3.12/site-packages (from dask[complete]; extra == \"parallel\"->xarray[parallel]->xee) (15.0.0)\n",
      "Requirement already satisfied: pyarrow-hotfix in /home/eric/miniforge3/envs/easysnowdata/lib/python3.12/site-packages (from dask[complete]; extra == \"parallel\"->xarray[parallel]->xee) (0.6)\n",
      "Requirement already satisfied: lz4>=4.3.2 in /home/eric/miniforge3/envs/easysnowdata/lib/python3.12/site-packages (from dask[complete]; extra == \"parallel\"->xarray[parallel]->xee) (4.3.3)\n",
      "Collecting google-cloud-core<3.0dev,>=2.3.0 (from google-cloud-storage->earthengine-api>=0.1.374->xee)\n",
      "  Downloading google_cloud_core-2.4.1-py2.py3-none-any.whl.metadata (2.7 kB)\n",
      "Collecting google-resumable-media>=2.6.0 (from google-cloud-storage->earthengine-api>=0.1.374->xee)\n",
      "  Downloading google_resumable_media-2.7.0-py2.py3-none-any.whl.metadata (2.2 kB)\n",
      "Collecting google-crc32c<2.0dev,>=1.0 (from google-cloud-storage->earthengine-api>=0.1.374->xee)\n",
      "  Downloading google-crc32c-1.5.0.tar.gz (12 kB)\n",
      "  Installing build dependencies ... \u001b[?25ldone\n",
      "\u001b[?25h  Getting requirements to build wheel ... \u001b[?25ldone\n",
      "\u001b[?25h  Preparing metadata (pyproject.toml) ... \u001b[?25ldone\n",
      "\u001b[?25hRequirement already satisfied: charset-normalizer<4,>=2 in /home/eric/miniforge3/envs/easysnowdata/lib/python3.12/site-packages (from requests->earthengine-api>=0.1.374->xee) (3.3.2)\n",
      "Requirement already satisfied: idna<4,>=2.5 in /home/eric/miniforge3/envs/easysnowdata/lib/python3.12/site-packages (from requests->earthengine-api>=0.1.374->xee) (3.6)\n",
      "Requirement already satisfied: urllib3<3,>=1.21.1 in /home/eric/miniforge3/envs/easysnowdata/lib/python3.12/site-packages (from requests->earthengine-api>=0.1.374->xee) (2.0.7)\n",
      "Collecting googleapis-common-protos<2.0.dev0,>=1.56.2 (from google-api-core!=2.0.*,!=2.1.*,!=2.2.*,!=2.3.0,<3.0.0.dev0,>=1.31.5->google-api-python-client>=1.12.1->earthengine-api>=0.1.374->xee)\n",
      "  Downloading googleapis_common_protos-1.63.0-py2.py3-none-any.whl.metadata (1.5 kB)\n",
      "Collecting protobuf!=3.20.0,!=3.20.1,!=4.21.0,!=4.21.1,!=4.21.2,!=4.21.3,!=4.21.4,!=4.21.5,<5.0.0.dev0,>=3.19.5 (from google-api-core!=2.0.*,!=2.1.*,!=2.2.*,!=2.3.0,<3.0.0.dev0,>=1.31.5->google-api-python-client>=1.12.1->earthengine-api>=0.1.374->xee)\n",
      "  Downloading protobuf-4.25.3-cp37-abi3-manylinux2014_x86_64.whl.metadata (541 bytes)\n",
      "Collecting proto-plus<2.0.0dev,>=1.22.3 (from google-api-core!=2.0.*,!=2.1.*,!=2.2.*,!=2.3.0,<3.0.0.dev0,>=1.31.5->google-api-python-client>=1.12.1->earthengine-api>=0.1.374->xee)\n",
      "  Downloading proto_plus-1.23.0-py3-none-any.whl.metadata (2.2 kB)\n",
      "Requirement already satisfied: zipp>=0.5 in /home/eric/miniforge3/envs/easysnowdata/lib/python3.12/site-packages (from importlib-metadata>=4.13.0->dask[complete]; extra == \"parallel\"->xarray[parallel]->xee) (3.17.0)\n",
      "Requirement already satisfied: locket in /home/eric/miniforge3/envs/easysnowdata/lib/python3.12/site-packages (from partd>=1.2.0->dask[complete]; extra == \"parallel\"->xarray[parallel]->xee) (1.0.0)\n",
      "Collecting pyasn1<0.6.0,>=0.4.6 (from pyasn1-modules>=0.2.1->google-auth>=1.4.1->earthengine-api>=0.1.374->xee)\n",
      "  Downloading pyasn1-0.5.1-py2.py3-none-any.whl.metadata (8.6 kB)\n",
      "Requirement already satisfied: six>=1.5 in /home/eric/miniforge3/envs/easysnowdata/lib/python3.12/site-packages (from python-dateutil>=2.8.2->pandas>=1.5->xarray[parallel]->xee) (1.16.0)\n",
      "Requirement already satisfied: bokeh>=2.4.2 in /home/eric/miniforge3/envs/easysnowdata/lib/python3.12/site-packages (from dask[complete]->xarray[parallel]->xee) (3.3.4)\n",
      "Requirement already satisfied: jinja2>=2.10.3 in /home/eric/miniforge3/envs/easysnowdata/lib/python3.12/site-packages (from dask[complete]->xarray[parallel]->xee) (3.1.3)\n",
      "Requirement already satisfied: distributed==2024.2.1 in /home/eric/miniforge3/envs/easysnowdata/lib/python3.12/site-packages (from dask[complete]->xarray[parallel]->xee) (2024.2.1)\n",
      "Requirement already satisfied: msgpack>=1.0.0 in /home/eric/miniforge3/envs/easysnowdata/lib/python3.12/site-packages (from distributed==2024.2.1->dask[complete]->xarray[parallel]->xee) (1.0.7)\n",
      "Requirement already satisfied: psutil>=5.7.2 in /home/eric/miniforge3/envs/easysnowdata/lib/python3.12/site-packages (from distributed==2024.2.1->dask[complete]->xarray[parallel]->xee) (5.9.8)\n",
      "Requirement already satisfied: sortedcontainers>=2.0.5 in /home/eric/miniforge3/envs/easysnowdata/lib/python3.12/site-packages (from distributed==2024.2.1->dask[complete]->xarray[parallel]->xee) (2.4.0)\n",
      "Requirement already satisfied: tblib>=1.6.0 in /home/eric/miniforge3/envs/easysnowdata/lib/python3.12/site-packages (from distributed==2024.2.1->dask[complete]->xarray[parallel]->xee) (3.0.0)\n",
      "Requirement already satisfied: tornado>=6.0.4 in /home/eric/miniforge3/envs/easysnowdata/lib/python3.12/site-packages (from distributed==2024.2.1->dask[complete]->xarray[parallel]->xee) (6.4)\n",
      "Requirement already satisfied: zict>=3.0.0 in /home/eric/miniforge3/envs/easysnowdata/lib/python3.12/site-packages (from distributed==2024.2.1->dask[complete]->xarray[parallel]->xee) (3.0.0)\n",
      "Requirement already satisfied: contourpy>=1 in /home/eric/miniforge3/envs/easysnowdata/lib/python3.12/site-packages (from bokeh>=2.4.2->dask[complete]->xarray[parallel]->xee) (1.2.0)\n",
      "Requirement already satisfied: pillow>=7.1.0 in /home/eric/miniforge3/envs/easysnowdata/lib/python3.12/site-packages (from bokeh>=2.4.2->dask[complete]->xarray[parallel]->xee) (10.2.0)\n",
      "Requirement already satisfied: xyzservices>=2021.09.1 in /home/eric/miniforge3/envs/easysnowdata/lib/python3.12/site-packages (from bokeh>=2.4.2->dask[complete]->xarray[parallel]->xee) (2023.10.1)\n",
      "Requirement already satisfied: MarkupSafe>=2.0 in /home/eric/miniforge3/envs/easysnowdata/lib/python3.12/site-packages (from jinja2>=2.10.3->dask[complete]->xarray[parallel]->xee) (2.1.5)\n",
      "Downloading xee-0.0.11-py3-none-any.whl (27 kB)\n",
      "Downloading earthengine_api-0.1.395-py3-none-any.whl (324 kB)\n",
      "\u001b[2K   \u001b[90m━━━━━━━━━━━━━━━━━━━━━━━━━━━━━━━━━━━━━━━\u001b[0m \u001b[32m324.9/324.9 kB\u001b[0m \u001b[31m837.9 kB/s\u001b[0m eta \u001b[36m0:00:00\u001b[0m0:01\u001b[0m00:01\u001b[0mm\n",
      "\u001b[?25hDownloading google_api_python_client-2.123.0-py2.py3-none-any.whl (12.4 MB)\n",
      "\u001b[2K   \u001b[90m━━━━━━━━━━━━━━━━━━━━━━━━━━━━━━━━━━━━━━━━\u001b[0m \u001b[32m12.4/12.4 MB\u001b[0m \u001b[31m2.2 MB/s\u001b[0m eta \u001b[36m0:00:00\u001b[0m00:01\u001b[0m00:01\u001b[0mm\n",
      "\u001b[?25hDownloading google_auth-2.29.0-py2.py3-none-any.whl (189 kB)\n",
      "\u001b[2K   \u001b[90m━━━━━━━━━━━━━━━━━━━━━━━━━━━━━━━━━━━━━━━━\u001b[0m \u001b[32m189.2/189.2 kB\u001b[0m \u001b[31m1.2 MB/s\u001b[0m eta \u001b[36m0:00:00\u001b[0ma \u001b[36m0:00:01\u001b[0m\n",
      "\u001b[?25hDownloading google_auth_httplib2-0.2.0-py2.py3-none-any.whl (9.3 kB)\n",
      "Downloading httplib2-0.22.0-py3-none-any.whl (96 kB)\n",
      "\u001b[2K   \u001b[90m━━━━━━━━━━━━━━━━━━━━━━━━━━━━━━━━━━━━━━━━\u001b[0m \u001b[32m96.9/96.9 kB\u001b[0m \u001b[31m832.3 kB/s\u001b[0m eta \u001b[36m0:00:00\u001b[0m \u001b[36m0:00:01\u001b[0m\n",
      "\u001b[?25hDownloading google_cloud_storage-2.16.0-py2.py3-none-any.whl (125 kB)\n",
      "\u001b[2K   \u001b[90m━━━━━━━━━━━━━━━━━━━━━━━━━━━━━━━━━━━━━━━━\u001b[0m \u001b[32m125.6/125.6 kB\u001b[0m \u001b[31m1.0 MB/s\u001b[0m eta \u001b[36m0:00:00\u001b[0m:00:01\u001b[0m\n",
      "\u001b[?25hDownloading google_api_core-2.18.0-py3-none-any.whl (138 kB)\n",
      "\u001b[2K   \u001b[90m━━━━━━━━━━━━━━━━━━━━━━━━━━━━━━━━━━━━━━━━\u001b[0m \u001b[32m138.3/138.3 kB\u001b[0m \u001b[31m1.2 MB/s\u001b[0m eta \u001b[36m0:00:00\u001b[0mta \u001b[36m0:00:01\u001b[0m\n",
      "\u001b[?25hDownloading google_cloud_core-2.4.1-py2.py3-none-any.whl (29 kB)\n",
      "Downloading google_resumable_media-2.7.0-py2.py3-none-any.whl (80 kB)\n",
      "\u001b[2K   \u001b[90m━━━━━━━━━━━━━━━━━━━━━━━━━━━━━━━━━━━━━━━━\u001b[0m \u001b[32m80.6/80.6 kB\u001b[0m \u001b[31m666.7 kB/s\u001b[0m eta \u001b[36m0:00:00\u001b[0m \u001b[36m0:00:01\u001b[0m\n",
      "\u001b[?25hDownloading pyasn1_modules-0.3.0-py2.py3-none-any.whl (181 kB)\n",
      "\u001b[2K   \u001b[90m━━━━━━━━━━━━━━━━━━━━━━━━━━━━━━━━━━━━━━━━\u001b[0m \u001b[32m181.3/181.3 kB\u001b[0m \u001b[31m1.7 MB/s\u001b[0m eta \u001b[36m0:00:00\u001b[0mta \u001b[36m0:00:01\u001b[0m\n",
      "\u001b[?25hDownloading rsa-4.9-py3-none-any.whl (34 kB)\n",
      "Downloading uritemplate-4.1.1-py2.py3-none-any.whl (10 kB)\n",
      "Downloading googleapis_common_protos-1.63.0-py2.py3-none-any.whl (229 kB)\n",
      "\u001b[2K   \u001b[90m━━━━━━━━━━━━━━━━━━━━━━━━━━━━━━━━━━━━━━━━\u001b[0m \u001b[32m229.1/229.1 kB\u001b[0m \u001b[31m2.0 MB/s\u001b[0m eta \u001b[36m0:00:00\u001b[0m:00:01\u001b[0m\n",
      "\u001b[?25hDownloading proto_plus-1.23.0-py3-none-any.whl (48 kB)\n",
      "\u001b[2K   \u001b[90m━━━━━━━━━━━━━━━━━━━━━━━━━━━━━━━━━━━━━━━━\u001b[0m \u001b[32m48.8/48.8 kB\u001b[0m \u001b[31m373.3 kB/s\u001b[0m eta \u001b[36m0:00:00\u001b[0ma \u001b[36m0:00:01\u001b[0m\n",
      "\u001b[?25hDownloading protobuf-4.25.3-cp37-abi3-manylinux2014_x86_64.whl (294 kB)\n",
      "\u001b[2K   \u001b[90m━━━━━━━━━━━━━━━━━━━━━━━━━━━━━━━━━━━━━━━━\u001b[0m \u001b[32m294.6/294.6 kB\u001b[0m \u001b[31m2.0 MB/s\u001b[0m eta \u001b[36m0:00:00\u001b[0ma \u001b[36m0:00:01\u001b[0m\n",
      "\u001b[?25hDownloading pyasn1-0.5.1-py2.py3-none-any.whl (84 kB)\n",
      "\u001b[2K   \u001b[90m━━━━━━━━━━━━━━━━━━━━━━━━━━━━━━━━━━━━━━━━\u001b[0m \u001b[32m84.9/84.9 kB\u001b[0m \u001b[31m664.1 kB/s\u001b[0m eta \u001b[36m0:00:00\u001b[0ma \u001b[36m0:00:01\u001b[0m\n",
      "\u001b[?25hBuilding wheels for collected packages: google-crc32c\n",
      "  Building wheel for google-crc32c (pyproject.toml) ... \u001b[?25ldone\n",
      "\u001b[?25h  Created wheel for google-crc32c: filename=google_crc32c-1.5.0-py3-none-any.whl size=13026 sha256=d5ab1becbd297735d1cd455955cdf6fdba47ec4b164b73104bfaa7d6e9372ef7\n",
      "  Stored in directory: /home/eric/.cache/pip/wheels/40/b9/2e/089df51c5e6f7cda282c650457a1d9a7a55bf6386d8de8bf3d\n",
      "Successfully built google-crc32c\n",
      "Installing collected packages: uritemplate, pyasn1, protobuf, httplib2, google-crc32c, rsa, pyasn1-modules, proto-plus, googleapis-common-protos, google-resumable-media, google-auth, google-auth-httplib2, google-api-core, google-cloud-core, google-api-python-client, google-cloud-storage, earthengine-api, xee\n",
      "Successfully installed earthengine-api-0.1.395 google-api-core-2.18.0 google-api-python-client-2.123.0 google-auth-2.29.0 google-auth-httplib2-0.2.0 google-cloud-core-2.4.1 google-cloud-storage-2.16.0 google-crc32c-1.5.0 google-resumable-media-2.7.0 googleapis-common-protos-1.63.0 httplib2-0.22.0 proto-plus-1.23.0 protobuf-4.25.3 pyasn1-0.5.1 pyasn1-modules-0.3.0 rsa-4.9 uritemplate-4.1.1 xee-0.0.11\n"
     ]
    }
   ],
   "source": [
    "!pip install --upgrade xee\n"
   ]
  },
  {
   "cell_type": "code",
   "execution_count": 9,
   "metadata": {},
   "outputs": [
    {
     "name": "stdout",
     "output_type": "stream",
     "text": [
      "Paste the following address into a web browser:\n",
      "\n",
      "    https://accounts.google.com/o/oauth2/auth?client_id=517222506229-vsmmajv00ul0bs7p89v5m89qs8eb9359.apps.googleusercontent.com&scope=https%3A%2F%2Fwww.googleapis.com%2Fauth%2Fearthengine+https%3A%2F%2Fwww.googleapis.com%2Fauth%2Fcloud-platform+https%3A%2F%2Fwww.googleapis.com%2Fauth%2Fdevstorage.full_control&redirect_uri=http%3A%2F%2Flocalhost%3A8085&response_type=code&code_challenge=W6DhvewkXdP9klnp2gJ8DkMzG2ED_4mQzOB0zVpRTN4&code_challenge_method=S256\n",
      "\n",
      "On the web page, please authorize access to your Earth Engine account and copy the authentication code. Next authenticate with the following command:\n",
      "\n",
      "    earthengine authenticate --code-verifier=uq2BXy4f13NAeSq2FIoMDaDPeAyG_z77Ea4cgTlFu8E --authorization-code=PLACE_AUTH_CODE_HERE\n",
      "\n",
      "gio: https://accounts.google.com/o/oauth2/auth?client_id=517222506229-vsmmajv00ul0bs7p89v5m89qs8eb9359.apps.googleusercontent.com&scope=https%3A%2F%2Fwww.googleapis.com%2Fauth%2Fearthengine+https%3A%2F%2Fwww.googleapis.com%2Fauth%2Fcloud-platform+https%3A%2F%2Fwww.googleapis.com%2Fauth%2Fdevstorage.full_control&redirect_uri=http%3A%2F%2Flocalhost%3A8085&response_type=code&code_challenge=W6DhvewkXdP9klnp2gJ8DkMzG2ED_4mQzOB0zVpRTN4&code_challenge_method=S256: Operation not supported\n",
      "\n",
      "Successfully saved authorization token.\n"
     ]
    }
   ],
   "source": [
    "!earthengine authenticate --quiet"
   ]
  },
  {
   "cell_type": "code",
   "execution_count": 4,
   "metadata": {},
   "outputs": [],
   "source": [
    "import ee\n",
    "import xarray"
   ]
  },
  {
   "cell_type": "code",
   "execution_count": 5,
   "metadata": {},
   "outputs": [],
   "source": [
    "ee.Initialize(opt_url='https://earthengine-highvolume.googleapis.com')\n"
   ]
  },
  {
   "cell_type": "code",
   "execution_count": 15,
   "metadata": {},
   "outputs": [],
   "source": [
    "huc02 = ee.FeatureCollection(\"USGS/WBD/2017/HUC02\")"
   ]
  },
  {
   "cell_type": "code",
   "execution_count": 16,
   "metadata": {},
   "outputs": [
    {
     "data": {
      "text/plain": [
       "<ee.featurecollection.FeatureCollection at 0x7f26faf8adb0>"
      ]
     },
     "execution_count": 16,
     "metadata": {},
     "output_type": "execute_result"
    }
   ],
   "source": [
    "huc02"
   ]
  },
  {
   "cell_type": "code",
   "execution_count": 17,
   "metadata": {},
   "outputs": [],
   "source": [
    "huc02_gdf = ee.data.computeFeatures({\n",
    "    'expression': huc02,\n",
    "    'fileFormat': 'GEOPANDAS_GEODATAFRAME'\n",
    "})\n"
   ]
  },
  {
   "cell_type": "code",
   "execution_count": 1,
   "metadata": {},
   "outputs": [],
   "source": [
    "#huc02_gdf.explore()"
   ]
  },
  {
   "cell_type": "code",
   "execution_count": 6,
   "metadata": {},
   "outputs": [
    {
     "ename": "",
     "evalue": "",
     "output_type": "error",
     "traceback": [
      "\u001b[1;31mThe Kernel crashed while executing code in the current cell or a previous cell. \n",
      "\u001b[1;31mPlease review the code in the cell(s) to identify a possible cause of the failure. \n",
      "\u001b[1;31mClick <a href='https://aka.ms/vscodeJupyterKernelCrash'>here</a> for more info. \n",
      "\u001b[1;31mView Jupyter <a href='command:jupyter.viewOutput'>log</a> for further details."
     ]
    }
   ],
   "source": [
    "huc02_gdf = ee.data.listFeatures({\n",
    "    'assetId': 'USGS/WBD/2017/HUC02',\n",
    "    #'region': wa.geometry().getInfo(),\n",
    "    #'filter': 'ORDER >= 3',\n",
    "    'fileFormat': 'GEOPANDAS_GEODATAFRAME'\n",
    "})"
   ]
  },
  {
   "cell_type": "code",
   "execution_count": null,
   "metadata": {},
   "outputs": [],
   "source": [
    "huc02_gdf"
   ]
  },
  {
   "cell_type": "code",
   "execution_count": null,
   "metadata": {},
   "outputs": [],
   "source": []
  }
 ],
 "metadata": {
  "kernelspec": {
   "display_name": "easysnowdata",
   "language": "python",
   "name": "python3"
  },
  "language_info": {
   "codemirror_mode": {
    "name": "ipython",
    "version": 3
   },
   "file_extension": ".py",
   "mimetype": "text/x-python",
   "name": "python",
   "nbconvert_exporter": "python",
   "pygments_lexer": "ipython3",
   "version": "3.12.2"
  }
 },
 "nbformat": 4,
 "nbformat_minor": 2
}
